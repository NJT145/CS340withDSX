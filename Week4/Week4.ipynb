{
    "cells": [
        {
            "cell_type": "code", 
            "metadata": {
                "collapsed": true
            }, 
            "outputs": [], 
            "source": "# The code was removed by DSX for sharing.", 
            "execution_count": 1
        }, 
        {
            "cell_type": "code", 
            "metadata": {
                "collapsed": false
            }, 
            "outputs": [
                {
                    "text": "Here are the data columns:\n\nTimestamp\nStanding\nDo you feel like you are getting a satisfactory undergraduate CS education at \u015eEH\u0130R?\nWould you recommend \u015eEH\u0130R CS to your friends?\nWhat are the strengths of \u015eEH\u0130R CS?\nWhat are the weaknesses of \u015eEH\u0130R CS?\nIf you were given the opportunity, what would you change regarding undergraduate CS education at \u015eEH\u0130R?\n", 
                    "output_type": "stream", 
                    "name": "stdout"
                }
            ], 
            "source": "rdd = sc.textFile(path_1)\nprint \"Here are the data columns:\\n\"\nfor col in rdd.first().split(\"\\t\"):\n    print col", 
            "execution_count": 2
        }, 
        {
            "cell_type": "code", 
            "metadata": {
                "collapsed": false
            }, 
            "outputs": [
                {
                    "metadata": {}, 
                    "data": {
                        "text/plain": "[(u'Standing',\n  (u'Do you feel like you are getting a satisfactory undergraduate CS education at \\u015eEH\\u0130R?',\n   u'Would you recommend \\u015eEH\\u0130R CS to your friends?')),\n (u'Junior (Year 3)', (u'Maybe', u'Maybe')),\n (u'Junior (Year 3)', (u'Yes', u'Yes')),\n (u'Junior (Year 3)', (u'Yes', u'Yes')),\n (u'Junior (Year 3)', (u'Maybe', u'No')),\n (u'Junior (Year 3)', (u'Yes', u'Yes')),\n (u'Junior (Year 3)', (u'No', u'Maybe')),\n (u'Junior (Year 3)', (u'Maybe', u'No')),\n (u'Junior (Year 3)', (u'Maybe', u'Maybe')),\n (u'Junior (Year 3)', (u'Maybe', u'Yes')),\n (u'Junior (Year 3)', (u'No', u'Yes')),\n (u'Junior (Year 3)', (u'Yes', u'Yes')),\n (u'Junior (Year 3)', (u'Maybe', u'Yes')),\n (u'Junior (Year 3)', (u'Yes', u'Yes')),\n (u'Junior (Year 3)', (u'Maybe', u'No')),\n (u'Junior (Year 3)', (u'Maybe', u'No')),\n (u'Sophomore (Year 2)', (u'No', u'No')),\n (u'Sophomore (Year 2)', (u'No', u'No')),\n (u'Freshmen (Year 1)', (u'Yes', u'Yes')),\n (u'Sophomore (Year 2)', (u'Maybe', u'Maybe')),\n (u'Sophomore (Year 2)', (u'No', u'Maybe')),\n (u'Senior (Year 4)', (u'Maybe', u'Yes')),\n (u'Sophomore (Year 2)', (u'No', u'No')),\n (u'Sophomore (Year 2)', (u'No', u'No')),\n (u'Sophomore (Year 2)', (u'Maybe', u'Maybe')),\n (u'Senior (Year 4)', (u'Maybe', u'No')),\n (u'Sophomore (Year 2)', (u'Maybe', u'Maybe')),\n (u'Senior (Year 4)', (u'Maybe', u'Maybe')),\n (u'Senior (Year 4)', (u'Maybe', u'Maybe')),\n (u'Senior (Year 4)', (u'Yes', u'Yes')),\n (u'Senior (Year 4)', (u'No', u'Maybe')),\n (u'Senior (Year 4)', (u'Maybe', u'Maybe')),\n (u'Senior (Year 4)', (u'Maybe', u'No')),\n (u'Sophomore (Year 2)', (u'Maybe', u'No')),\n (u'Sophomore (Year 2)', (u'No', u'Maybe')),\n (u'Sophomore (Year 2)', (u'Maybe', u'Yes')),\n (u'Senior (Year 4)', (u'Maybe', u'Maybe')),\n (u'Junior (Year 3)', (u'Maybe', u'Maybe')),\n (u'Senior (Year 4)', (u'Maybe', u'Yes')),\n (u'Junior (Year 3)', (u'No', u'No')),\n (u'Junior (Year 3)', (u'Maybe', u'No')),\n (u'Senior (Year 4)', (u'No', u'No')),\n (u'Junior (Year 3)', (u'No', u'Yes')),\n (u'Junior (Year 3)', (u'No', u'Yes')),\n (u'Junior (Year 3)', (u'Maybe', u'Maybe')),\n (u'Senior (Year 4)', (u'Maybe', u'Maybe')),\n (u'Junior (Year 3)', (u'Maybe', u'Maybe')),\n (u'Junior (Year 3)', (u'Maybe', u'Maybe')),\n (u'Junior (Year 3)', (u'Maybe', u'Maybe')),\n (u'Senior (Year 4)', (u'Maybe', u'Maybe')),\n (u'Senior (Year 4)', (u'Maybe', u'Maybe')),\n (u'Senior (Year 4)', (u'Yes', u'No')),\n (u'Junior (Year 3)', (u'Maybe', u'Maybe')),\n (u'Senior (Year 4)', (u'Yes', u'Yes')),\n (u'Senior (Year 4)', (u'No', u'Yes')),\n (u'Senior (Year 4)', (u'Maybe', u'Maybe')),\n (u'', (u'No', u'No')),\n (u'Senior (Year 4)', (u'No', u'Yes')),\n (u'Senior (Year 4)', (u'No', u'No'))]"
                    }, 
                    "execution_count": 3, 
                    "output_type": "execute_result"
                }
            ], 
            "source": "rdd.map(lambda t: (t.split(\"\\t\")[1], (t.split(\"\\t\")[2],t.split(\"\\t\")[3]))).collect()", 
            "execution_count": 3
        }, 
        {
            "cell_type": "markdown", 
            "metadata": {}, 
            "source": "<h1>Indexing</h1>\n\n<h2><i>zipWithIndex</i> zips this RDD with its element indices.\n\n<p>\nThe ordering is first based on the partition index and then \nthe ordering of items within each partition. \n<p>\nSo the first item in the first partition gets index 0, and \nthe last item in the last partition receives the largest index.\n</h2>"
        }, 
        {
            "cell_type": "code", 
            "metadata": {
                "collapsed": false
            }, 
            "outputs": [], 
            "source": "rdd2 = rdd.zipWithIndex().filter(lambda x: x[1]>0).map(lambda x: x[0]).map(lambda t: (t.split(\"\\t\")[1].lower().strip(),t))", 
            "execution_count": 4
        }, 
        {
            "cell_type": "markdown", 
            "metadata": {}, 
            "source": "![Partitioning](https://github.com/ahmetbulut/CS340withDSX/blob/master/static/Partitioning.png?raw=true)"
        }, 
        {
            "cell_type": "code", 
            "metadata": {
                "collapsed": true
            }, 
            "outputs": [], 
            "source": "prdd = rdd2.partitionBy(5)", 
            "execution_count": 5
        }, 
        {
            "cell_type": "code", 
            "metadata": {
                "collapsed": false
            }, 
            "outputs": [
                {
                    "metadata": {}, 
                    "data": {
                        "text/plain": "5"
                    }, 
                    "execution_count": 6, 
                    "output_type": "execute_result"
                }
            ], 
            "source": "prdd.getNumPartitions()", 
            "execution_count": 6
        }, 
        {
            "cell_type": "code", 
            "metadata": {
                "collapsed": false
            }, 
            "outputs": [
                {
                    "metadata": {}, 
                    "data": {
                        "text/plain": "[2, 11, 20, 0, 25]"
                    }, 
                    "execution_count": 8, 
                    "output_type": "execute_result"
                }
            ], 
            "source": "prdd.mapPartitions(lambda items: [len(list(items))]).collect()", 
            "execution_count": 8
        }, 
        {
            "cell_type": "code", 
            "metadata": {
                "collapsed": false
            }, 
            "outputs": [
                {
                    "metadata": {}, 
                    "data": {
                        "text/plain": "[(u'freshmen (year 1)', (u'Yes', u'Yes')),\n (u'', (u'No', u'No')),\n (u'sophomore (year 2)', (u'No', u'No')),\n (u'sophomore (year 2)', (u'No', u'No')),\n (u'sophomore (year 2)', (u'Maybe', u'Maybe')),\n (u'sophomore (year 2)', (u'No', u'Maybe')),\n (u'sophomore (year 2)', (u'No', u'No')),\n (u'sophomore (year 2)', (u'No', u'No')),\n (u'sophomore (year 2)', (u'Maybe', u'Maybe')),\n (u'sophomore (year 2)', (u'Maybe', u'Maybe')),\n (u'sophomore (year 2)', (u'Maybe', u'No')),\n (u'sophomore (year 2)', (u'No', u'Maybe')),\n (u'sophomore (year 2)', (u'Maybe', u'Yes')),\n (u'senior (year 4)', (u'Maybe', u'Yes')),\n (u'senior (year 4)', (u'Maybe', u'No')),\n (u'senior (year 4)', (u'Maybe', u'Maybe')),\n (u'senior (year 4)', (u'Maybe', u'Maybe')),\n (u'senior (year 4)', (u'Yes', u'Yes')),\n (u'senior (year 4)', (u'No', u'Maybe')),\n (u'senior (year 4)', (u'Maybe', u'Maybe')),\n (u'senior (year 4)', (u'Maybe', u'No')),\n (u'senior (year 4)', (u'Maybe', u'Maybe')),\n (u'senior (year 4)', (u'Maybe', u'Yes')),\n (u'senior (year 4)', (u'No', u'No')),\n (u'senior (year 4)', (u'Maybe', u'Maybe')),\n (u'senior (year 4)', (u'Maybe', u'Maybe')),\n (u'senior (year 4)', (u'Maybe', u'Maybe')),\n (u'senior (year 4)', (u'Yes', u'No')),\n (u'senior (year 4)', (u'Yes', u'Yes')),\n (u'senior (year 4)', (u'No', u'Yes')),\n (u'senior (year 4)', (u'Maybe', u'Maybe')),\n (u'senior (year 4)', (u'No', u'Yes')),\n (u'senior (year 4)', (u'No', u'No')),\n (u'junior (year 3)', (u'Maybe', u'Maybe')),\n (u'junior (year 3)', (u'Yes', u'Yes')),\n (u'junior (year 3)', (u'Yes', u'Yes')),\n (u'junior (year 3)', (u'Maybe', u'No')),\n (u'junior (year 3)', (u'Yes', u'Yes')),\n (u'junior (year 3)', (u'No', u'Maybe')),\n (u'junior (year 3)', (u'Maybe', u'No')),\n (u'junior (year 3)', (u'Maybe', u'Maybe')),\n (u'junior (year 3)', (u'Maybe', u'Yes')),\n (u'junior (year 3)', (u'No', u'Yes')),\n (u'junior (year 3)', (u'Yes', u'Yes')),\n (u'junior (year 3)', (u'Maybe', u'Yes')),\n (u'junior (year 3)', (u'Yes', u'Yes')),\n (u'junior (year 3)', (u'Maybe', u'No')),\n (u'junior (year 3)', (u'Maybe', u'No')),\n (u'junior (year 3)', (u'Maybe', u'Maybe')),\n (u'junior (year 3)', (u'No', u'No')),\n (u'junior (year 3)', (u'Maybe', u'No')),\n (u'junior (year 3)', (u'No', u'Yes')),\n (u'junior (year 3)', (u'No', u'Yes')),\n (u'junior (year 3)', (u'Maybe', u'Maybe')),\n (u'junior (year 3)', (u'Maybe', u'Maybe')),\n (u'junior (year 3)', (u'Maybe', u'Maybe')),\n (u'junior (year 3)', (u'Maybe', u'Maybe')),\n (u'junior (year 3)', (u'Maybe', u'Maybe'))]"
                    }, 
                    "execution_count": 7, 
                    "output_type": "execute_result"
                }
            ], 
            "source": "prdd.mapValues(lambda t: (t.split(\"\\t\")[2],t.split(\"\\t\")[3])).collect()", 
            "execution_count": 7
        }, 
        {
            "cell_type": "code", 
            "metadata": {
                "collapsed": true
            }, 
            "outputs": [], 
            "source": "cleaned = prdd.mapValues(lambda t: (t.split(\"\\t\")[2],t.split(\"\\t\")[3]))", 
            "execution_count": 8
        }, 
        {
            "cell_type": "code", 
            "metadata": {
                "collapsed": false
            }, 
            "outputs": [], 
            "source": "def transformValues(t):\n    l = []\n    for val in t:\n        tv = 0\n        if val == \"Yes\":\n            tv = 1\n        elif val == \"No\":\n            tv = -1\n        l.append(tv)\n    return tuple(l)", 
            "execution_count": 9
        }, 
        {
            "cell_type": "code", 
            "metadata": {
                "collapsed": false
            }, 
            "outputs": [
                {
                    "metadata": {}, 
                    "data": {
                        "text/plain": "[(u'freshmen (year 1)', (1, 1)), (u'', (-1, -1))]"
                    }, 
                    "execution_count": 10, 
                    "output_type": "execute_result"
                }
            ], 
            "source": "cleaned.mapValues(transformValues).take(2)", 
            "execution_count": 10
        }, 
        {
            "cell_type": "code", 
            "metadata": {
                "collapsed": false
            }, 
            "outputs": [
                {
                    "metadata": {}, 
                    "data": {
                        "text/plain": "[(u'', [(-1, -1)]),\n (u'freshmen (year 1)', [(1, 1)]),\n (u'sophomore (year 2)',\n  [(-1, -1),\n   (-1, -1),\n   (0, 0),\n   (-1, 0),\n   (-1, -1),\n   (-1, -1),\n   (0, 0),\n   (0, 0),\n   (0, -1),\n   (-1, 0),\n   (0, 1)]),\n (u'senior (year 4)',\n  [(0, 1),\n   (0, -1),\n   (0, 0),\n   (0, 0),\n   (1, 1),\n   (-1, 0),\n   (0, 0),\n   (0, -1),\n   (0, 0),\n   (0, 1),\n   (-1, -1),\n   (0, 0),\n   (0, 0),\n   (0, 0),\n   (1, -1),\n   (1, 1),\n   (-1, 1),\n   (0, 0),\n   (-1, 1),\n   (-1, -1)]),\n (u'junior (year 3)',\n  [(0, 0),\n   (1, 1),\n   (1, 1),\n   (0, -1),\n   (1, 1),\n   (-1, 0),\n   (0, -1),\n   (0, 0),\n   (0, 1),\n   (-1, 1),\n   (1, 1),\n   (0, 1),\n   (1, 1),\n   (0, -1),\n   (0, -1),\n   (0, 0),\n   (-1, -1),\n   (0, -1),\n   (-1, 1),\n   (-1, 1),\n   (0, 0),\n   (0, 0),\n   (0, 0),\n   (0, 0),\n   (0, 0)])]"
                    }, 
                    "execution_count": 11, 
                    "output_type": "execute_result"
                }
            ], 
            "source": "interim = cleaned.mapValues(transformValues)\ninterim.groupByKey().mapValues(list).collect()", 
            "execution_count": 11
        }, 
        {
            "cell_type": "code", 
            "metadata": {
                "collapsed": false
            }, 
            "outputs": [
                {
                    "text": "[(u'', (-1, -1)), (u'freshmen (year 1)', (1, 1)), (u'sophomore (year 2)', (-6, -4)), (u'senior (year 4)', (-2, 1)), (u'junior (year 3)', (0, 4))]\n", 
                    "output_type": "stream", 
                    "name": "stdout"
                }
            ], 
            "source": "results = interim.reduceByKey(lambda x,y:(x[0]+y[0],x[1]+y[1])).collect()\nprint results", 
            "execution_count": 12
        }, 
        {
            "cell_type": "code", 
            "metadata": {
                "collapsed": true
            }, 
            "outputs": [], 
            "source": "results = filter(lambda x: x[0], results)", 
            "execution_count": 13
        }, 
        {
            "cell_type": "code", 
            "metadata": {
                "collapsed": false
            }, 
            "outputs": [
                {
                    "metadata": {}, 
                    "data": {
                        "text/plain": "<matplotlib.figure.Figure at 0x7f0a750b6610>", 
                        "image/png": "[encoded data removed]"
                    }, 
                    "output_type": "display_data"
                }
            ], 
            "source": "% matplotlib inline\nimport numpy as np\nimport matplotlib.pyplot as plt\n \n# data to plot\nn_groups = 4\nsatisfaction = map(lambda x: x[1][0], results)\nrecommendation = map(lambda x: x[1][1], results)\nxticks = map(lambda x: x[0], results)\n \n# create plot\nfig, ax = plt.subplots()\nindex = np.arange(n_groups)\nbar_width = 0.25\nopacity = 0.9\n \nbars1 = plt.bar(index, satisfaction, bar_width,\n                 alpha=opacity,\n                 color='b',\n                 label='satisfaction')\n \nbars2 = plt.bar(index + bar_width, recommendation, bar_width,\n                 alpha=opacity,\n                 color='g',\n                 label='recommendation')\n \nplt.ylim([-10,10])\nplt.ylabel('Total Score')\nplt.xticks(index + bar_width / 2, xticks)\nplt.legend()\n \nplt.tight_layout()\nplt.show()", 
            "execution_count": 14
        }, 
        {
            "cell_type": "markdown", 
            "metadata": {}, 
            "source": "<h1>Computation of ProductRanks</h1>\n\n<h2>You are given a network of frequently co-purchased products.</h2>\n\n<h2>Iterative Algorithm for computing product ranks:</h2>\n<h3>\n<p>\ni. Initialise each product $p$\u2019s rank to $1.0$.   \n<p>\nii. On each iteration, have each product $p$ send a contribution \nof $contribution = \\frac{p}{numOfNeighbours(p)}$ to its neighbours. \n<p>\niii. Set each product\u2019s rank to $ 0.15 + 0.85 \\times \\sum contributions\\_received $.\n</h3>"
        }, 
        {
            "cell_type": "code", 
            "metadata": {
                "collapsed": true
            }, 
            "outputs": [], 
            "source": "network = [(1,[2,3,4,5,6]),(2,[1]),(3,[1]),(4,[1]),(5,[1,6,8]),(6,[1,5,7,10,14]),(7,[6,8]),(8,[5,7,9]),(9,[8,10]),(10,[6,9]),(11,[14]),(12,[14,15]),(13,[14]),(14,[6,11,12,13]),(15,[12])]", 
            "execution_count": 26
        }, 
        {
            "cell_type": "code", 
            "metadata": {
                "collapsed": false
            }, 
            "outputs": [
                {
                    "text": "[(1, 1.0), (2, 1.0), (3, 1.0), (4, 1.0), (5, 1.0), (6, 1.0), (7, 1.0), (8, 1.0), (9, 1.0), (10, 1.0), (11, 1.0), (12, 1.0), (13, 1.0), (14, 1.0), (15, 1.0)]\n", 
                    "output_type": "stream", 
                    "name": "stdout"
                }
            ], 
            "source": "initialranks = []\nfor i in range(1,16):\n    initialranks.append((i,1.0))\nprint initialranks", 
            "execution_count": 27
        }, 
        {
            "cell_type": "code", 
            "metadata": {
                "collapsed": false
            }, 
            "outputs": [], 
            "source": "links = sc.parallelize(network)\nranks = sc.parallelize(initialranks)\nfor i in range(20):\n    ranks = links.flatMapValues(lambda l: [(e, 1.0/len(l)) for e in l])\\\n    .join(ranks)\\\n    .mapValues(lambda v: (v[0][0],v[0][1]*v[1]))\\\n    .map(lambda t: t[1])\\\n    .reduceByKey(lambda x,y:x+y)\\\n    .mapValues(lambda v: v*0.85+0.15)\n    \nranks = ranks.collect()\nranks.sort(key = lambda v: v[1], reverse = True)", 
            "execution_count": 33
        }, 
        {
            "cell_type": "code", 
            "metadata": {
                "collapsed": false
            }, 
            "outputs": [
                {
                    "text": "None\n", 
                    "output_type": "stream", 
                    "name": "stdout"
                }
            ], 
            "source": "print ranks", 
            "execution_count": 32
        }, 
        {
            "cell_type": "code", 
            "metadata": {
                "collapsed": true
            }, 
            "outputs": [], 
            "source": "", 
            "execution_count": null
        }
    ], 
    "nbformat": 4, 
    "metadata": {
        "kernelspec": {
            "display_name": "Python 2 with Spark 1.6", 
            "name": "python2", 
            "language": "python"
        }, 
        "language_info": {
            "version": "2.7.11", 
            "codemirror_mode": {
                "version": 2, 
                "name": "ipython"
            }, 
            "mimetype": "text/x-python", 
            "nbconvert_exporter": "python", 
            "file_extension": ".py", 
            "name": "python", 
            "pygments_lexer": "ipython2"
        }
    }, 
    "nbformat_minor": 0
}