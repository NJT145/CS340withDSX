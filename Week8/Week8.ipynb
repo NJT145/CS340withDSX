{
    "metadata": {
        "language_info": {
            "file_extension": ".py", 
            "mimetype": "text/x-python", 
            "nbconvert_exporter": "python", 
            "pygments_lexer": "ipython2", 
            "version": "2.7.11", 
            "name": "python", 
            "codemirror_mode": {
                "version": 2, 
                "name": "ipython"
            }
        }, 
        "kernelspec": {
            "display_name": "Python 2 with Spark 1.6", 
            "language": "python", 
            "name": "python2"
        }
    }, 
    "cells": [
        {
            "metadata": {}, 
            "cell_type": "markdown", 
            "source": "# >>> Magic Commands in a Nutshell <<<"
        }, 
        {
            "metadata": {}, 
            "cell_type": "markdown", 
            "source": "<h2>See what is available per line, and per cell</h2>"
        }, 
        {
            "metadata": {
                "collapsed": false
            }, 
            "outputs": [
                {
                    "metadata": {}, 
                    "execution_count": 9, 
                    "data": {
                        "text/plain": "Available line magics:\n%alias  %alias_magic  %autocall  %automagic  %autosave  %bookmark  %cat  %cd  %clear  %colors  %config  %connect_info  %cp  %debug  %dhist  %dirs  %doctest_mode  %ed  %edit  %env  %gui  %hist  %history  %install_default_config  %install_ext  %install_profiles  %killbgscripts  %ldir  %less  %lf  %lk  %ll  %load  %load_ext  %loadpy  %logoff  %logon  %logstart  %logstate  %logstop  %ls  %lsmagic  %lx  %macro  %magic  %man  %matplotlib  %mkdir  %more  %mv  %notebook  %page  %pastebin  %pdb  %pdef  %pdoc  %pfile  %pinfo  %pinfo2  %popd  %pprint  %precision  %profile  %prun  %psearch  %psource  %pushd  %pwd  %pycat  %pylab  %qtconsole  %quickref  %recall  %rehashx  %reload_ext  %rep  %rerun  %reset  %reset_selective  %rm  %rmdir  %run  %save  %sc  %set_env  %store  %sx  %system  %tb  %time  %timeit  %unalias  %unload_ext  %who  %who_ls  %whos  %xdel  %xmode\n\nAvailable cell magics:\n%%!  %%HTML  %%SVG  %%bash  %%capture  %%debug  %%file  %%html  %%javascript  %%latex  %%perl  %%prun  %%pypy  %%python  %%python2  %%python3  %%ruby  %%script  %%sh  %%svg  %%sx  %%system  %%time  %%timeit  %%writefile\n\nAutomagic is ON, % prefix IS NOT needed for line magics.", 
                        "application/json": {
                            "cell": {
                                "file": "Other", 
                                "ruby": "Other", 
                                "time": "ExecutionMagics", 
                                "python": "Other", 
                                "svg": "DisplayMagics", 
                                "SVG": "Other", 
                                "timeit": "ExecutionMagics", 
                                "system": "OSMagics", 
                                "capture": "ExecutionMagics", 
                                "pypy": "Other", 
                                "html": "DisplayMagics", 
                                "sh": "Other", 
                                "writefile": "OSMagics", 
                                "HTML": "Other", 
                                "perl": "Other", 
                                "bash": "Other", 
                                "python3": "Other", 
                                "python2": "Other", 
                                "prun": "ExecutionMagics", 
                                "debug": "ExecutionMagics", 
                                "sx": "OSMagics", 
                                "javascript": "DisplayMagics", 
                                "script": "ScriptMagics", 
                                "!": "OSMagics", 
                                "latex": "DisplayMagics"
                            }, 
                            "line": {
                                "pastebin": "CodeMagics", 
                                "clear": "KernelMagics", 
                                "unalias": "OSMagics", 
                                "pdef": "NamespaceMagics", 
                                "page": "BasicMagics", 
                                "logstart": "LoggingMagics", 
                                "notebook": "BasicMagics", 
                                "install_profiles": "DeprecatedMagics", 
                                "psource": "NamespaceMagics", 
                                "ldir": "Other", 
                                "lsmagic": "BasicMagics", 
                                "reset": "NamespaceMagics", 
                                "sc": "OSMagics", 
                                "more": "KernelMagics", 
                                "macro": "ExecutionMagics", 
                                "dhist": "OSMagics", 
                                "pylab": "PylabMagics", 
                                "logon": "LoggingMagics", 
                                "rmdir": "Other", 
                                "pwd": "OSMagics", 
                                "autosave": "KernelMagics", 
                                "gui": "BasicMagics", 
                                "unload_ext": "ExtensionMagics", 
                                "precision": "BasicMagics", 
                                "rep": "Other", 
                                "cp": "Other", 
                                "hist": "Other", 
                                "pfile": "NamespaceMagics", 
                                "less": "KernelMagics", 
                                "pycat": "OSMagics", 
                                "save": "CodeMagics", 
                                "config": "ConfigMagics", 
                                "connect_info": "KernelMagics", 
                                "cd": "OSMagics", 
                                "quickref": "BasicMagics", 
                                "history": "HistoryMagics", 
                                "alias_magic": "BasicMagics", 
                                "edit": "KernelMagics", 
                                "rm": "Other", 
                                "magic": "BasicMagics", 
                                "cat": "Other", 
                                "set_env": "OSMagics", 
                                "pdoc": "NamespaceMagics", 
                                "reset_selective": "NamespaceMagics", 
                                "bookmark": "OSMagics", 
                                "profile": "BasicMagics", 
                                "xdel": "NamespaceMagics", 
                                "pprint": "BasicMagics", 
                                "who": "NamespaceMagics", 
                                "reload_ext": "ExtensionMagics", 
                                "store": "StoreMagics", 
                                "loadpy": "CodeMagics", 
                                "logstate": "LoggingMagics", 
                                "mkdir": "Other", 
                                "system": "OSMagics", 
                                "load_ext": "ExtensionMagics", 
                                "install_default_config": "DeprecatedMagics", 
                                "matplotlib": "PylabMagics", 
                                "run": "ExecutionMagics", 
                                "logoff": "LoggingMagics", 
                                "dirs": "OSMagics", 
                                "mv": "Other", 
                                "rerun": "HistoryMagics", 
                                "prun": "ExecutionMagics", 
                                "pushd": "OSMagics", 
                                "debug": "ExecutionMagics", 
                                "pinfo2": "NamespaceMagics", 
                                "man": "KernelMagics", 
                                "sx": "OSMagics", 
                                "automagic": "AutoMagics", 
                                "xmode": "BasicMagics", 
                                "pdb": "ExecutionMagics", 
                                "time": "ExecutionMagics", 
                                "colors": "BasicMagics", 
                                "popd": "OSMagics", 
                                "ed": "Other", 
                                "timeit": "ExecutionMagics", 
                                "killbgscripts": "ScriptMagics", 
                                "who_ls": "NamespaceMagics", 
                                "tb": "ExecutionMagics", 
                                "logstop": "LoggingMagics", 
                                "alias": "OSMagics", 
                                "rehashx": "OSMagics", 
                                "pinfo": "NamespaceMagics", 
                                "ls": "Other", 
                                "doctest_mode": "BasicMagics", 
                                "autocall": "AutoMagics", 
                                "lx": "Other", 
                                "load": "CodeMagics", 
                                "recall": "HistoryMagics", 
                                "lf": "Other", 
                                "whos": "NamespaceMagics", 
                                "qtconsole": "KernelMagics", 
                                "ll": "Other", 
                                "env": "OSMagics", 
                                "psearch": "NamespaceMagics", 
                                "install_ext": "ExtensionMagics", 
                                "lk": "Other"
                            }
                        }
                    }, 
                    "output_type": "execute_result"
                }
            ], 
            "cell_type": "code", 
            "execution_count": 9, 
            "source": "%lsmagic"
        }, 
        {
            "metadata": {}, 
            "cell_type": "markdown", 
            "source": "<h2>In case you need to display a \"complex\" formula</h2>"
        }, 
        {
            "metadata": {
                "collapsed": false
            }, 
            "outputs": [
                {
                    "metadata": {}, 
                    "data": {
                        "text/plain": "<IPython.core.display.Latex object>", 
                        "text/latex": "$$c^{i+1}_t= \\log \\frac{p^{i+1}_t}{(1-p^{i+1}_t)} + \\log \\frac{(1-u^{i+1}_t)}{u^{i+1}_t}$$"
                    }, 
                    "output_type": "display_data"
                }
            ], 
            "cell_type": "code", 
            "execution_count": 1, 
            "source": "%%latex\n$$c^{i+1}_t= \\log \\frac{p^{i+1}_t}{(1-p^{i+1}_t)} + \\log \\frac{(1-u^{i+1}_t)}{u^{i+1}_t}$$"
        }, 
        {
            "metadata": {}, 
            "cell_type": "markdown", 
            "source": "<h2>In case you need to execute a shell command</h2>"
        }, 
        {
            "metadata": {
                "collapsed": false
            }, 
            "outputs": [
                {
                    "output_type": "stream", 
                    "text": "Tue Apr  4 02:51:41 CDT 2017\n", 
                    "name": "stdout"
                }
            ], 
            "cell_type": "code", 
            "execution_count": 29, 
            "source": "%%sh\ndate"
        }, 
        {
            "metadata": {}, 
            "cell_type": "markdown", 
            "source": "# >>> Working with DataFrames <<<"
        }, 
        {
            "metadata": {
                "collapsed": false
            }, 
            "outputs": [
                {
                    "output_type": "stream", 
                    "text": "Pixiedust database opened successfully\n", 
                    "name": "stdout"
                }, 
                {
                    "metadata": {}, 
                    "data": {
                        "text/plain": "<IPython.core.display.HTML object>", 
                        "text/html": "\n        <div style=\"margin:10px\">\n            <a href=\"https://github.com/ibm-cds-labs/pixiedust\" target=\"_new\">\n                <img src=\"https://github.com/ibm-cds-labs/pixiedust/raw/master/docs/_static/pd_icon32.png\" style=\"float:left;margin-right:10px\"/>\n            </a>\n            <span>Pixiedust version 1.0.2</span>\n        </div>\n        "
                    }, 
                    "output_type": "display_data"
                }, 
                {
                    "metadata": {}, 
                    "data": {
                        "text/plain": "<IPython.core.display.HTML object>", 
                        "text/html": "<div>Warning: You are not running the latest version of PixieDust. Current is 1.0.2, Latest is 1.0.3</div>"
                    }, 
                    "output_type": "display_data"
                }, 
                {
                    "metadata": {}, 
                    "data": {
                        "text/plain": "<IPython.core.display.HTML object>", 
                        "text/html": "\n                <div>Please copy and run the following command in a new cell to upgrade: <span style=\"background-color:#ececec;font-family:monospace;padding:0 5px\">!pip install --user --upgrade pixiedust</span></div>\n            "
                    }, 
                    "output_type": "display_data"
                }, 
                {
                    "metadata": {}, 
                    "data": {
                        "text/plain": "<IPython.core.display.HTML object>", 
                        "text/html": "<div>Please restart kernel after upgrading.</div>"
                    }, 
                    "output_type": "display_data"
                }, 
                {
                    "output_type": "stream", 
                    "text": "Downloading 'https://openobjectstore.mybluemix.net/misc/milliondollarhomes.csv' from https://openobjectstore.mybluemix.net/misc/milliondollarhomes.csv\n", 
                    "name": "stdout"
                }, 
                {
                    "metadata": {}, 
                    "data": {
                        "text/plain": "<IPython.core.display.HTML object>", 
                        "text/html": "\n                <div>\n                    <span id=\"pm_label10543b23\">Starting download...</span>\n                    <progress id=\"pm_progress10543b23\" max=\"100\" value=\"0\" style=\"width:200px\"></progress>\n                </div>"
                    }, 
                    "output_type": "display_data"
                }, 
                {
                    "metadata": {}, 
                    "data": {
                        "application/javascript": "\n                    $(\"#pm_label10543b23\").text(\"Downloaded 8192 of 8192 bytes\");\n                    $(\"#pm_progress10543b23\").attr(\"value\", 100.0);\n                ", 
                        "text/plain": "<IPython.core.display.Javascript object>"
                    }, 
                    "output_type": "display_data"
                }, 
                {
                    "metadata": {}, 
                    "data": {
                        "application/javascript": "\n                    $(\"#pm_label10543b23\").text(\"Downloaded 16384 of 16384 bytes\");\n                    $(\"#pm_progress10543b23\").attr(\"value\", 100.0);\n                ", 
                        "text/plain": "<IPython.core.display.Javascript object>"
                    }, 
                    "output_type": "display_data"
                }, 
                {
                    "metadata": {}, 
                    "data": {
                        "application/javascript": "\n                    $(\"#pm_label10543b23\").text(\"Downloaded 24576 of 24576 bytes\");\n                    $(\"#pm_progress10543b23\").attr(\"value\", 100.0);\n                ", 
                        "text/plain": "<IPython.core.display.Javascript object>"
                    }, 
                    "output_type": "display_data"
                }, 
                {
                    "metadata": {}, 
                    "data": {
                        "application/javascript": "\n                    $(\"#pm_label10543b23\").text(\"Downloaded 32768 of 32768 bytes\");\n                    $(\"#pm_progress10543b23\").attr(\"value\", 100.0);\n                ", 
                        "text/plain": "<IPython.core.display.Javascript object>"
                    }, 
                    "output_type": "display_data"
                }, 
                {
                    "metadata": {}, 
                    "data": {
                        "application/javascript": "\n                    $(\"#pm_label10543b23\").text(\"Downloaded 40960 of 40960 bytes\");\n                    $(\"#pm_progress10543b23\").attr(\"value\", 100.0);\n                ", 
                        "text/plain": "<IPython.core.display.Javascript object>"
                    }, 
                    "output_type": "display_data"
                }, 
                {
                    "metadata": {}, 
                    "data": {
                        "application/javascript": "\n                    $(\"#pm_label10543b23\").text(\"Downloaded 49152 of 49152 bytes\");\n                    $(\"#pm_progress10543b23\").attr(\"value\", 100.0);\n                ", 
                        "text/plain": "<IPython.core.display.Javascript object>"
                    }, 
                    "output_type": "display_data"
                }, 
                {
                    "metadata": {}, 
                    "data": {
                        "application/javascript": "\n                    $(\"#pm_label10543b23\").text(\"Downloaded 57344 of 57344 bytes\");\n                    $(\"#pm_progress10543b23\").attr(\"value\", 100.0);\n                ", 
                        "text/plain": "<IPython.core.display.Javascript object>"
                    }, 
                    "output_type": "display_data"
                }, 
                {
                    "metadata": {}, 
                    "data": {
                        "application/javascript": "\n                    $(\"#pm_label10543b23\").text(\"Downloaded 65536 of 65536 bytes\");\n                    $(\"#pm_progress10543b23\").attr(\"value\", 100.0);\n                ", 
                        "text/plain": "<IPython.core.display.Javascript object>"
                    }, 
                    "output_type": "display_data"
                }, 
                {
                    "metadata": {}, 
                    "data": {
                        "application/javascript": "\n                    $(\"#pm_label10543b23\").text(\"Downloaded 73728 of 73728 bytes\");\n                    $(\"#pm_progress10543b23\").attr(\"value\", 100.0);\n                ", 
                        "text/plain": "<IPython.core.display.Javascript object>"
                    }, 
                    "output_type": "display_data"
                }, 
                {
                    "metadata": {}, 
                    "data": {
                        "application/javascript": "\n                    $(\"#pm_label10543b23\").text(\"Downloaded 81920 of 81920 bytes\");\n                    $(\"#pm_progress10543b23\").attr(\"value\", 100.0);\n                ", 
                        "text/plain": "<IPython.core.display.Javascript object>"
                    }, 
                    "output_type": "display_data"
                }, 
                {
                    "metadata": {}, 
                    "data": {
                        "application/javascript": "\n                    $(\"#pm_label10543b23\").text(\"Downloaded 90112 of 90112 bytes\");\n                    $(\"#pm_progress10543b23\").attr(\"value\", 100.0);\n                ", 
                        "text/plain": "<IPython.core.display.Javascript object>"
                    }, 
                    "output_type": "display_data"
                }, 
                {
                    "metadata": {}, 
                    "data": {
                        "application/javascript": "\n                    $(\"#pm_label10543b23\").text(\"Downloaded 98304 of 98304 bytes\");\n                    $(\"#pm_progress10543b23\").attr(\"value\", 100.0);\n                ", 
                        "text/plain": "<IPython.core.display.Javascript object>"
                    }, 
                    "output_type": "display_data"
                }, 
                {
                    "metadata": {}, 
                    "data": {
                        "application/javascript": "\n                    $(\"#pm_label10543b23\").text(\"Downloaded 102051 of 102051 bytes\");\n                    $(\"#pm_progress10543b23\").attr(\"value\", 100.0);\n                ", 
                        "text/plain": "<IPython.core.display.Javascript object>"
                    }, 
                    "output_type": "display_data"
                }, 
                {
                    "output_type": "stream", 
                    "text": "Creating pySpark DataFrame for 'https://openobjectstore.mybluemix.net/misc/milliondollarhomes.csv'. Please wait...\nSuccessfully created pySpark DataFrame for 'https://openobjectstore.mybluemix.net/misc/milliondollarhomes.csv'\nDownloading 'https://github.com/ibm-cds-labs/open-data/raw/master/cars/cars.csv' from https://github.com/ibm-cds-labs/open-data/raw/master/cars/cars.csv\n", 
                    "name": "stdout"
                }, 
                {
                    "metadata": {}, 
                    "data": {
                        "text/plain": "<IPython.core.display.HTML object>", 
                        "text/html": "\n                <div>\n                    <span id=\"pm_labelb88668f6\">Starting download...</span>\n                    <progress id=\"pm_progressb88668f6\" max=\"100\" value=\"0\" style=\"width:200px\"></progress>\n                </div>"
                    }, 
                    "output_type": "display_data"
                }, 
                {
                    "metadata": {}, 
                    "data": {
                        "application/javascript": "\n                    $(\"#pm_labelb88668f6\").text(\"Downloaded 8192 of 20954 bytes\");\n                    $(\"#pm_progressb88668f6\").attr(\"value\", 39.1);\n                ", 
                        "text/plain": "<IPython.core.display.Javascript object>"
                    }, 
                    "output_type": "display_data"
                }, 
                {
                    "metadata": {}, 
                    "data": {
                        "application/javascript": "\n                    $(\"#pm_labelb88668f6\").text(\"Downloaded 16384 of 20954 bytes\");\n                    $(\"#pm_progressb88668f6\").attr(\"value\", 78.19);\n                ", 
                        "text/plain": "<IPython.core.display.Javascript object>"
                    }, 
                    "output_type": "display_data"
                }, 
                {
                    "metadata": {}, 
                    "data": {
                        "application/javascript": "\n                    $(\"#pm_labelb88668f6\").text(\"Downloaded 20954 of 20954 bytes\");\n                    $(\"#pm_progressb88668f6\").attr(\"value\", 100.0);\n                ", 
                        "text/plain": "<IPython.core.display.Javascript object>"
                    }, 
                    "output_type": "display_data"
                }, 
                {
                    "output_type": "stream", 
                    "text": "Creating pySpark DataFrame for 'https://github.com/ibm-cds-labs/open-data/raw/master/cars/cars.csv'. Please wait...\nSuccessfully created pySpark DataFrame for 'https://github.com/ibm-cds-labs/open-data/raw/master/cars/cars.csv'\n", 
                    "name": "stdout"
                }
            ], 
            "cell_type": "code", 
            "execution_count": 1, 
            "source": "import pixiedust\nhomes = pixiedust.sampleData(\"https://openobjectstore.mybluemix.net/misc/milliondollarhomes.csv\")\ncars = pixiedust.sampleData(\"https://github.com/ibm-cds-labs/open-data/raw/master/cars/cars.csv\")"
        }, 
        {
            "metadata": {
                "pixiedust": {
                    "displayParams": {}
                }, 
                "collapsed": false
            }, 
            "outputs": [
                {
                    "metadata": {}, 
                    "execution_count": 5, 
                    "data": {
                        "text/plain": "[Row(mpg=18.0, cylinders=8, engine=307.0, horsepower=130, weight=3504, acceleration=12.0, year=70, origin=u'American', name=u'chevrolet chevelle malibu'),\n Row(mpg=15.0, cylinders=8, engine=350.0, horsepower=165, weight=3693, acceleration=11.5, year=70, origin=u'American', name=u'buick skylark 320'),\n Row(mpg=18.0, cylinders=8, engine=318.0, horsepower=150, weight=3436, acceleration=11.0, year=70, origin=u'American', name=u'plymouth satellite'),\n Row(mpg=16.0, cylinders=8, engine=304.0, horsepower=150, weight=3433, acceleration=12.0, year=70, origin=u'American', name=u'amc rebel sst'),\n Row(mpg=17.0, cylinders=8, engine=302.0, horsepower=140, weight=3449, acceleration=10.5, year=70, origin=u'American', name=u'ford torino')]"
                    }, 
                    "output_type": "execute_result"
                }
            ], 
            "cell_type": "code", 
            "execution_count": 5, 
            "source": "cars.head(5)"
        }, 
        {
            "metadata": {
                "collapsed": false
            }, 
            "outputs": [], 
            "cell_type": "code", 
            "execution_count": 7, 
            "source": "american_cars = cars.select(cars.cylinders, cars.mpg, cars.origin).filter(cars.origin == u'American')"
        }, 
        {
            "metadata": {
                "collapsed": false
            }, 
            "outputs": [
                {
                    "metadata": {}, 
                    "execution_count": 8, 
                    "data": {
                        "text/plain": "254"
                    }, 
                    "output_type": "execute_result"
                }
            ], 
            "cell_type": "code", 
            "execution_count": 8, 
            "source": "american_cars.count()"
        }, 
        {
            "metadata": {}, 
            "cell_type": "markdown", 
            "source": "<h2>Per group row count</h2>"
        }, 
        {
            "metadata": {
                "collapsed": false
            }, 
            "outputs": [
                {
                    "output_type": "stream", 
                    "text": "+---------+-----+\n|cylinders|count|\n+---------+-----+\n|        4|   72|\n|        6|   74|\n|        8|  108|\n+---------+-----+\n\n", 
                    "name": "stdout"
                }
            ], 
            "cell_type": "code", 
            "execution_count": 9, 
            "source": "american_cars.groupBy(\"cylinders\").count().show()"
        }, 
        {
            "metadata": {}, 
            "cell_type": "markdown", 
            "source": "<h2>Per group aggregation</h2>"
        }, 
        {
            "metadata": {
                "collapsed": false
            }, 
            "outputs": [
                {
                    "output_type": "stream", 
                    "text": "+---------+--------+\n|cylinders|max(mpg)|\n+---------+--------+\n|        4|    39.0|\n|        6|    38.0|\n|        8|    26.6|\n+---------+--------+\n\n", 
                    "name": "stdout"
                }
            ], 
            "cell_type": "code", 
            "execution_count": 10, 
            "source": "american_cars.groupBy(\"cylinders\").max(\"mpg\").show()"
        }, 
        {
            "metadata": {}, 
            "cell_type": "markdown", 
            "source": "<h2>A composite where clause, i.e., a composite filter</h2>"
        }, 
        {
            "metadata": {
                "pixiedust": {
                    "displayParams": {
                        "keyFields": "cylinders", 
                        "handlerId": "dataframe", 
                        "rowCount": "100", 
                        "valueFields": "mpg"
                    }
                }, 
                "collapsed": false
            }, 
            "outputs": [
                {
                    "metadata": {}, 
                    "data": {
                        "text/plain": "<IPython.core.display.HTML object>", 
                        "text/html": "<style type=\"text/css\">.pd_warning{display:none;}</style><div class=\"pd_warning\"><em>Hey, there's something awesome here! To see it, open this notebook outside GitHub, in a viewer like Jupyter</em></div><style type=\"text/css\" class=\"pd_save is-viewer-good\">\n  .df-table-wrapper .panel-heading {\n    border-radius: 0;\n    padding: 0px;\n  }\n  .df-table-wrapper .panel-heading:hover {\n    border-color: #008571;\n  }\n  .df-table-wrapper .panel-title a {\n    background-color: #f9f9fb;\n    color: #333333;\n    display: block;\n    outline: none;\n    padding: 10px 15px;\n    text-decoration: none;\n  }\n  .df-table-wrapper .panel-title a:hover {\n    background-color: #337ab7;\n    border-color: #2e6da4;\n    color: #ffffff;\n    display: block;\n    padding: 10px 15px;\n    text-decoration: none;\n  }\n  .df-table-wrapper {\n    font-size: small;\n    font-weight: 300;\n    letter-spacing: 0.5px;\n    line-height: normal;\n  }\n  .df-table-search-count {\n    display: inline-block;\n    margin: 20px 0;\n  }\n  .df-table-container {\n    max-height: 50vh;\n    max-width: 100%;\n    overflow-x: auto;\n    position: relative;\n  }\n  .df-table-wrapper table {\n    border: 0 none #ffffff;\n    border-collapse: collapse;\n    margin: 0;\n    min-width: 100%;\n    padding: 0;\n    table-layout: fixed;\n  }\n  .df-table-wrapper tr.hidden {\n    display: none;\n  }\n  .df-table-wrapper tr:nth-child(even) {\n    background-color: #f9f9fb;\n  }\n  .df-table-wrapper tr.even {\n    background-color: #f9f9fb;\n  }\n  .df-table-wrapper tr.odd {\n    background-color: #ffffff;\n  }\n  .df-table-wrapper td + td {\n    border-left: 1px solid #e0e0e0;\n  }\n\n  .df-table-wrapper thead,\n  .fixed-header {\n    color: #337ab7;\n    font-family: monospace;\n  }\n  .df-table-wrapper tr,\n  .fixed-row {\n    border: 0 none #ffffff;\n    margin: 0;\n    padding: 0;\n  }\n  .df-table-wrapper th,\n  .df-table-wrapper td,\n  .fixed-cell {\n    border: 0 none #ffffff;\n    margin: 0;\n    min-width: 50px;\n    padding: 5px 20px 5px 10px;\n    text-align: left;\n    word-wrap: break-word;\n  }\n  .df-table-wrapper th {\n    padding-bottom: 0;\n    padding-top: 0;\n  }\n  .df-table-wrapper th div {\n    max-height: 1px;\n    visibility: hidden;\n  }\n\n  .df-schema-field {\n    margin-left: 10px;\n  }\n\n  .fixed-header-container {\n    overflow: hidden;\n    position: relative;\n  }\n  .fixed-header {\n    border-bottom: 2px solid #2e6da4;\n    display: table;\n    position: relative;\n  }\n  .fixed-row {\n    display: table-row;\n  }\n  .fixed-cell {\n    display: table-cell;\n  }\n</style><div class=\"df-table-wrapper df-table-wrapper-e842cddc panel-group pd_save is-viewer-good\">\n  <!-- dataframe schema -->\n  <div class=\"panel panel-default\">\n    <div class=\"panel-heading\">\n      <h4 class=\"panel-title\" style=\"margin: 0px;\">\n        <a data-toggle=\"collapse\" href=\"#df-schema-e842cddc\" data-parent=\"#df-table-wrapper-e842cddc\">Schema</a>\n      </h4>\n    </div>\n    <div id=\"df-schema-e842cddc\" class=\"panel-collapse collapse\">\n      <div class=\"panel-body\" style=\"font-family: monospace;\">\n        <div class=\"df-schema-type\">\n          <span>type: </span><span>struct</span>\n        </div>\n        <div class=\"df-schema-fields\">\n          <div>field:</div>\n          \n            <div class=\"df-schema-field\">{'metadata': {}, 'type': 'integer', 'name': 'cylinders', 'nullable': True}</div>\n          \n            <div class=\"df-schema-field\">{'metadata': {}, 'type': 'double', 'name': 'mpg', 'nullable': True}</div>\n          \n            <div class=\"df-schema-field\">{'metadata': {}, 'type': 'string', 'name': 'origin', 'nullable': True}</div>\n          \n        </div>\n      </div>\n    </div>\n  </div>\n  <!-- dataframe table -->\n  <div class=\"panel panel-default\">\n    <div class=\"panel-heading\">\n      <h4 class=\"panel-title\" style=\"margin: 0px;\">\n        <a data-toggle=\"collapse\" href=\"#df-table-e842cddc\" data-parent=\"#df-table-wrapper-e842cddc\">Table</a>\n      </h4>\n    </div>\n    <div id=\"df-table-e842cddc\" class=\"panel-collapse collapse in\">\n      <div class=\"panel-body\">\n        \n        <input type=\"text\" class=\"df-table-search form-control input-sm\" placeholder=\"Search table\">\n        <div>\n          <span class=\"df-table-search-count\">Showing 92 of 92</span>\n        </div>\n        <!-- fixed header for when dataframe table scrolls -->\n        <div class=\"fixed-header-container\">\n          <div class=\"fixed-header\">\n            <div class=\"fixed-row\">\n              \n              <div class=\"fixed-cell\">cylinders</div>\n              \n              <div class=\"fixed-cell\">mpg</div>\n              \n              <div class=\"fixed-cell\">origin</div>\n              \n            </div>\n          </div>\n        </div>\n        <div class=\"df-table-container\">\n          <table class=\"df-table\">\n            <thead>\n              <tr>\n                \n                <th><div>cylinders</div></th>\n                \n                <th><div>mpg</div></th>\n                \n                <th><div>origin</div></th>\n                \n              </tr>\n            </thead>\n            <tbody>\n              \n              <tr>\n                \n                <td>8</td>\n                \n                <td>15.0</td>\n                \n                <td>American</td>\n                \n              </tr>\n              \n              <tr>\n                \n                <td>8</td>\n                \n                <td>16.0</td>\n                \n                <td>American</td>\n                \n              </tr>\n              \n              <tr>\n                \n                <td>8</td>\n                \n                <td>15.0</td>\n                \n                <td>American</td>\n                \n              </tr>\n              \n              <tr>\n                \n                <td>8</td>\n                \n                <td>14.0</td>\n                \n                <td>American</td>\n                \n              </tr>\n              \n              <tr>\n                \n                <td>8</td>\n                \n                <td>14.0</td>\n                \n                <td>American</td>\n                \n              </tr>\n              \n              <tr>\n                \n                <td>8</td>\n                \n                <td>14.0</td>\n                \n                <td>American</td>\n                \n              </tr>\n              \n              <tr>\n                \n                <td>8</td>\n                \n                <td>15.0</td>\n                \n                <td>American</td>\n                \n              </tr>\n              \n              <tr>\n                \n                <td>8</td>\n                \n                <td>16.0</td>\n                \n                <td>American</td>\n                \n              </tr>\n              \n              <tr>\n                \n                <td>8</td>\n                \n                <td>16.0</td>\n                \n                <td>American</td>\n                \n              </tr>\n              \n              <tr>\n                \n                <td>8</td>\n                \n                <td>15.0</td>\n                \n                <td>American</td>\n                \n              </tr>\n              \n              <tr>\n                \n                <td>8</td>\n                \n                <td>15.0</td>\n                \n                <td>American</td>\n                \n              </tr>\n              \n              <tr>\n                \n                <td>8</td>\n                \n                <td>15.0</td>\n                \n                <td>American</td>\n                \n              </tr>\n              \n              <tr>\n                \n                <td>8</td>\n                \n                <td>14.0</td>\n                \n                <td>American</td>\n                \n              </tr>\n              \n              <tr>\n                \n                <td>8</td>\n                \n                <td>15.0</td>\n                \n                <td>American</td>\n                \n              </tr>\n              \n              <tr>\n                \n                <td>8</td>\n                \n                <td>15.0</td>\n                \n                <td>American</td>\n                \n              </tr>\n              \n              <tr>\n                \n                <td>8</td>\n                \n                <td>14.0</td>\n                \n                <td>American</td>\n                \n              </tr>\n              \n              <tr>\n                \n                <td>8</td>\n                \n                <td>10.0</td>\n                \n                <td>American</td>\n                \n              </tr>\n              \n              <tr>\n                \n                <td>8</td>\n                \n                <td>10.0</td>\n                \n                <td>American</td>\n                \n              </tr>\n              \n              <tr>\n                \n                <td>8</td>\n                \n                <td>11.0</td>\n                \n                <td>American</td>\n                \n              </tr>\n              \n              <tr>\n                \n                <td>8</td>\n                \n                <td>9.0</td>\n                \n                <td>American</td>\n                \n              </tr>\n              \n              <tr>\n                \n                <td>6</td>\n                \n                <td>16.0</td>\n                \n                <td>American</td>\n                \n              </tr>\n              \n              <tr>\n                \n                <td>8</td>\n                \n                <td>14.0</td>\n                \n                <td>American</td>\n                \n              </tr>\n              \n              <tr>\n                \n                <td>8</td>\n                \n                <td>14.0</td>\n                \n                <td>American</td>\n                \n              </tr>\n              \n              <tr>\n                \n                <td>8</td>\n                \n                <td>14.0</td>\n                \n                <td>American</td>\n                \n              </tr>\n              \n              <tr>\n                \n                <td>8</td>\n                \n                <td>14.0</td>\n                \n                <td>American</td>\n                \n              </tr>\n              \n              <tr>\n                \n                <td>8</td>\n                \n                <td>12.0</td>\n                \n                <td>American</td>\n                \n              </tr>\n              \n              <tr>\n                \n                <td>8</td>\n                \n                <td>13.0</td>\n                \n                <td>American</td>\n                \n              </tr>\n              \n              <tr>\n                \n                <td>8</td>\n                \n                <td>13.0</td>\n                \n                <td>American</td>\n                \n              </tr>\n              \n              <tr>\n                \n                <td>8</td>\n                \n                <td>13.0</td>\n                \n                <td>American</td>\n                \n              </tr>\n              \n              <tr>\n                \n                <td>8</td>\n                \n                <td>14.0</td>\n                \n                <td>American</td>\n                \n              </tr>\n              \n              <tr>\n                \n                <td>8</td>\n                \n                <td>15.0</td>\n                \n                <td>American</td>\n                \n              </tr>\n              \n              <tr>\n                \n                <td>8</td>\n                \n                <td>14.0</td>\n                \n                <td>American</td>\n                \n              </tr>\n              \n              <tr>\n                \n                <td>8</td>\n                \n                <td>11.0</td>\n                \n                <td>American</td>\n                \n              </tr>\n              \n              <tr>\n                \n                <td>8</td>\n                \n                <td>13.0</td>\n                \n                <td>American</td>\n                \n              </tr>\n              \n              <tr>\n                \n                <td>8</td>\n                \n                <td>12.0</td>\n                \n                <td>American</td>\n                \n              </tr>\n              \n              <tr>\n                \n                <td>8</td>\n                \n                <td>13.0</td>\n                \n                <td>American</td>\n                \n              </tr>\n              \n              <tr>\n                \n                <td>8</td>\n                \n                <td>15.0</td>\n                \n                <td>American</td>\n                \n              </tr>\n              \n              <tr>\n                \n                <td>8</td>\n                \n                <td>13.0</td>\n                \n                <td>American</td>\n                \n              </tr>\n              \n              <tr>\n                \n                <td>8</td>\n                \n                <td>13.0</td>\n                \n                <td>American</td>\n                \n              </tr>\n              \n              <tr>\n                \n                <td>8</td>\n                \n                <td>14.0</td>\n                \n                <td>American</td>\n                \n              </tr>\n              \n              <tr>\n                \n                <td>8</td>\n                \n                <td>13.0</td>\n                \n                <td>American</td>\n                \n              </tr>\n              \n              <tr>\n                \n                <td>8</td>\n                \n                <td>14.0</td>\n                \n                <td>American</td>\n                \n              </tr>\n              \n              <tr>\n                \n                <td>8</td>\n                \n                <td>13.0</td>\n                \n                <td>American</td>\n                \n              </tr>\n              \n              <tr>\n                \n                <td>8</td>\n                \n                <td>14.0</td>\n                \n                <td>American</td>\n                \n              </tr>\n              \n              <tr>\n                \n                <td>8</td>\n                \n                <td>15.0</td>\n                \n                <td>American</td>\n                \n              </tr>\n              \n              <tr>\n                \n                <td>8</td>\n                \n                <td>12.0</td>\n                \n                <td>American</td>\n                \n              </tr>\n              \n              <tr>\n                \n                <td>8</td>\n                \n                <td>13.0</td>\n                \n                <td>American</td>\n                \n              </tr>\n              \n              <tr>\n                \n                <td>8</td>\n                \n                <td>13.0</td>\n                \n                <td>American</td>\n                \n              </tr>\n              \n              <tr>\n                \n                <td>8</td>\n                \n                <td>14.0</td>\n                \n                <td>American</td>\n                \n              </tr>\n              \n              <tr>\n                \n                <td>8</td>\n                \n                <td>13.0</td>\n                \n                <td>American</td>\n                \n              </tr>\n              \n              <tr>\n                \n                <td>8</td>\n                \n                <td>12.0</td>\n                \n                <td>American</td>\n                \n              </tr>\n              \n              <tr>\n                \n                <td>8</td>\n                \n                <td>13.0</td>\n                \n                <td>American</td>\n                \n              </tr>\n              \n              <tr>\n                \n                <td>6</td>\n                \n                <td>16.0</td>\n                \n                <td>American</td>\n                \n              </tr>\n              \n              <tr>\n                \n                <td>8</td>\n                \n                <td>11.0</td>\n                \n                <td>American</td>\n                \n              </tr>\n              \n              <tr>\n                \n                <td>8</td>\n                \n                <td>12.0</td>\n                \n                <td>American</td>\n                \n              </tr>\n              \n              <tr>\n                \n                <td>8</td>\n                \n                <td>13.0</td>\n                \n                <td>American</td>\n                \n              </tr>\n              \n              <tr>\n                \n                <td>8</td>\n                \n                <td>12.0</td>\n                \n                <td>American</td>\n                \n              </tr>\n              \n              <tr>\n                \n                <td>8</td>\n                \n                <td>15.0</td>\n                \n                <td>American</td>\n                \n              </tr>\n              \n              <tr>\n                \n                <td>8</td>\n                \n                <td>16.0</td>\n                \n                <td>American</td>\n                \n              </tr>\n              \n              <tr>\n                \n                <td>8</td>\n                \n                <td>15.0</td>\n                \n                <td>American</td>\n                \n              </tr>\n              \n              <tr>\n                \n                <td>8</td>\n                \n                <td>11.0</td>\n                \n                <td>American</td>\n                \n              </tr>\n              \n              <tr>\n                \n                <td>6</td>\n                \n                <td>15.0</td>\n                \n                <td>American</td>\n                \n              </tr>\n              \n              <tr>\n                \n                <td>6</td>\n                \n                <td>16.0</td>\n                \n                <td>American</td>\n                \n              </tr>\n              \n              <tr>\n                \n                <td>6</td>\n                \n                <td>16.0</td>\n                \n                <td>American</td>\n                \n              </tr>\n              \n              <tr>\n                \n                <td>8</td>\n                \n                <td>16.0</td>\n                \n                <td>American</td>\n                \n              </tr>\n              \n              <tr>\n                \n                <td>8</td>\n                \n                <td>13.0</td>\n                \n                <td>American</td>\n                \n              </tr>\n              \n              <tr>\n                \n                <td>8</td>\n                \n                <td>14.0</td>\n                \n                <td>American</td>\n                \n              </tr>\n              \n              <tr>\n                \n                <td>8</td>\n                \n                <td>14.0</td>\n                \n                <td>American</td>\n                \n              </tr>\n              \n              <tr>\n                \n                <td>8</td>\n                \n                <td>14.0</td>\n                \n                <td>American</td>\n                \n              </tr>\n              \n              <tr>\n                \n                <td>6</td>\n                \n                <td>15.0</td>\n                \n                <td>American</td>\n                \n              </tr>\n              \n              <tr>\n                \n                <td>6</td>\n                \n                <td>15.0</td>\n                \n                <td>American</td>\n                \n              </tr>\n              \n              <tr>\n                \n                <td>8</td>\n                \n                <td>16.0</td>\n                \n                <td>American</td>\n                \n              </tr>\n              \n              <tr>\n                \n                <td>8</td>\n                \n                <td>15.0</td>\n                \n                <td>American</td>\n                \n              </tr>\n              \n              <tr>\n                \n                <td>8</td>\n                \n                <td>16.0</td>\n                \n                <td>American</td>\n                \n              </tr>\n              \n              <tr>\n                \n                <td>8</td>\n                \n                <td>14.0</td>\n                \n                <td>American</td>\n                \n              </tr>\n              \n              <tr>\n                \n                <td>6</td>\n                \n                <td>16.0</td>\n                \n                <td>American</td>\n                \n              </tr>\n              \n              <tr>\n                \n                <td>6</td>\n                \n                <td>15.0</td>\n                \n                <td>American</td>\n                \n              </tr>\n              \n              <tr>\n                \n                <td>8</td>\n                \n                <td>13.0</td>\n                \n                <td>American</td>\n                \n              </tr>\n              \n              <tr>\n                \n                <td>8</td>\n                \n                <td>16.0</td>\n                \n                <td>American</td>\n                \n              </tr>\n              \n              <tr>\n                \n                <td>8</td>\n                \n                <td>15.5</td>\n                \n                <td>American</td>\n                \n              </tr>\n              \n              <tr>\n                \n                <td>8</td>\n                \n                <td>14.5</td>\n                \n                <td>American</td>\n                \n              </tr>\n              \n              <tr>\n                \n                <td>8</td>\n                \n                <td>13.0</td>\n                \n                <td>American</td>\n                \n              </tr>\n              \n              <tr>\n                \n                <td>8</td>\n                \n                <td>13.0</td>\n                \n                <td>American</td>\n                \n              </tr>\n              \n              <tr>\n                \n                <td>8</td>\n                \n                <td>13.0</td>\n                \n                <td>American</td>\n                \n              </tr>\n              \n              <tr>\n                \n                <td>8</td>\n                \n                <td>13.0</td>\n                \n                <td>American</td>\n                \n              </tr>\n              \n              <tr>\n                \n                <td>8</td>\n                \n                <td>15.5</td>\n                \n                <td>American</td>\n                \n              </tr>\n              \n              <tr>\n                \n                <td>8</td>\n                \n                <td>15.0</td>\n                \n                <td>American</td>\n                \n              </tr>\n              \n              <tr>\n                \n                <td>8</td>\n                \n                <td>16.0</td>\n                \n                <td>American</td>\n                \n              </tr>\n              \n              <tr>\n                \n                <td>8</td>\n                \n                <td>15.5</td>\n                \n                <td>American</td>\n                \n              </tr>\n              \n              <tr>\n                \n                <td>8</td>\n                \n                <td>15.5</td>\n                \n                <td>American</td>\n                \n              </tr>\n              \n              <tr>\n                \n                <td>8</td>\n                \n                <td>16.0</td>\n                \n                <td>American</td>\n                \n              </tr>\n              \n              <tr>\n                \n                <td>8</td>\n                \n                <td>15.5</td>\n                \n                <td>American</td>\n                \n              </tr>\n              \n            </tbody>\n          </table>\n        </div>\n      </div>\n    </div>\n  </div>\n</div><script class=\"pd_save is-viewer-good\">\n  $(function() {\n    var tableWrapper = $('.df-table-wrapper-e842cddc');\n    var fixedHeader = $('.fixed-header', tableWrapper);\n    var tableContainer = $('.df-table-container', tableWrapper);\n    var table = $('.df-table', tableContainer);\n    var rows = $('tbody > tr', table);\n    var total = 92;\n\n    fixedHeader\n      .css('width', table.width())\n      .find('.fixed-cell')\n      .each(function(i, e) {\n        $(this).css('width', $('.df-table-wrapper-e842cddc th:nth-child(' + (i+1) + ')').css('width'));\n      });\n\n    tableContainer.scroll(function() {\n      fixedHeader.css({ left: table.position().left });\n    });\n\n    $('.df-table-search', tableWrapper).keyup(function() {\n      var val = '^(?=.*\\\\b' + $.trim($(this).val()).split(/\\s+/).join('\\\\b)(?=.*\\\\b') + ').*$';\n      var reg = RegExp(val, 'i');\n      var index = 0;\n      \n      rows.each(function(i, e) {\n        if (!reg.test($(this).text().replace(/\\s+/g, ' '))) {\n          $(this).attr('class', 'hidden');\n        }\n        else {\n          $(this).attr('class', (++index % 2 == 0 ? 'even' : 'odd'));\n        }\n      });\n\n      $('.df-table-search-count', tableWrapper).html('Showing ' + index + ' of ' + total);\n    });\n  });\n</script>"
                    }, 
                    "output_type": "display_data"
                }
            ], 
            "cell_type": "code", 
            "execution_count": 14, 
            "source": "display(american_cars.filter(\"cylinders >= 6 and mpg <= 16\"))"
        }, 
        {
            "metadata": {}, 
            "cell_type": "markdown", 
            "source": "# Joining DataFrames"
        }, 
        {
            "metadata": {}, 
            "cell_type": "markdown", 
            "source": "<h2>We have two DataFrames df1 and df2.</h2> \n\n<h2>Contents:</h2>\n<ul>\n<i><h3>df1 contains sales data, i.e., the id of a specific product sold, the quantity sold, \nand the date the sale was made.</h3></i>\n\n<i><h3>df2 contains product data, i.e., the id of each product and its price.</h3></i>\n</ul>\n\n<h2>Their schemas:</h2>\n<ul>\n<i><h3>df1 has an INT valued id column, an INT valued quantity column, and a STRING valued \ndate column.</h3></i>\n\n<i><h3>df2 has an INT valued id column, and a FLOAT valued price column.</h3></i>\n</ul>\n\n<h3>\nQuestion: Write down the code to compute total revenue (which is total_quantity x price) \nper product using DataFrame operations.\n</h3>"
        }, 
        {
            "metadata": {
                "collapsed": false
            }, 
            "outputs": [], 
            "cell_type": "code", 
            "execution_count": 18, 
            "source": "from pyspark.sql import Row\n\nd1 = [Row(date='March 1, 2017', id=1, quantity=2), Row(date='March 2, 2017', id=1, quantity=5), \n      Row(date='March 2, 2017', id=2, quantity=1), Row(date='March 3, 2017', id=3, quantity=10), \n      Row(date='March 7, 2017', id=1, quantity=4), Row(date='March 7, 2017', id=2, quantity=4), \n      Row(date='March 7, 2017', id=3, quantity=2), Row(date='March 10, 2017', id=4, quantity=1), \n      Row(date='March 15, 2017', id=3, quantity=5), Row(date='March 15, 2017', id=2, quantity=1), \n      Row(date='March 20, 2017', id=4, quantity=2), Row(date='March 30, 2017', id=2, quantity=5), \n      Row(date='March 30, 2017', id=3, quantity=3), Row(date='March 30, 2017', id=1, quantity=5)] \n\nd2 = [Row(id=1, price=10), Row(id=2, price=8), \n      Row(id=3, price=5), Row(id=4, price=2)]\n\ndf1 = sqlContext.createDataFrame(d1)\ndf2 = sqlContext.createDataFrame(d2)"
        }, 
        {
            "metadata": {
                "collapsed": false
            }, 
            "outputs": [
                {
                    "output_type": "stream", 
                    "text": "+---+------------+\n| id|TotalRevenue|\n+---+------------+\n|  1|         160|\n|  2|          88|\n|  3|         100|\n|  4|           6|\n+---+------------+\n\n", 
                    "name": "stdout"
                }
            ], 
            "cell_type": "code", 
            "execution_count": 22, 
            "source": "df1.join(df2, df1.id == df2.id).select(df1.id, (df1.quantity * df2.price).alias(\"rev\")).groupBy(\"id\").sum(\"rev\").withColumnRenamed(\"sum(rev)\", \"TotalRevenue\").show()"
        }, 
        {
            "metadata": {
                "collapsed": true
            }, 
            "outputs": [], 
            "cell_type": "code", 
            "execution_count": null, 
            "source": ""
        }
    ], 
    "nbformat": 4, 
    "nbformat_minor": 0
}