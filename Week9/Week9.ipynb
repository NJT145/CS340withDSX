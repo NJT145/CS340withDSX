{
    "metadata": {
        "kernelspec": {
            "language": "python", 
            "display_name": "Python 2 with Spark 1.6", 
            "name": "python2"
        }, 
        "language_info": {
            "version": "2.7.11", 
            "pygments_lexer": "ipython2", 
            "mimetype": "text/x-python", 
            "nbconvert_exporter": "python", 
            "file_extension": ".py", 
            "codemirror_mode": {
                "version": 2, 
                "name": "ipython"
            }, 
            "name": "python"
        }
    }, 
    "cells": [
        {
            "metadata": {}, 
            "cell_type": "markdown", 
            "source": "<h1>Supervised Learning in a Nutshell</h1>"
        }, 
        {
            "metadata": {
                "collapsed": true
            }, 
            "cell_type": "markdown", 
            "source": "![](https://github.com/ahmetbulut/CS340withDSX/blob/master/static/Week9/SupervisedLearning.png?raw=true)"
        }, 
        {
            "metadata": {
                "collapsed": true
            }, 
            "cell_type": "markdown", 
            "source": "<h1>Supervised Classification</h1> \n<h2>\n<ul>\n<li>\nDuring training, a feature extraction scheme is used to convert each input value to a feature vectors. Labeled points, which consist of pairs of labels and feature vectors are fed into the machine learning algorithm to generate a model.\n</li>\n<p>\n<li>\nDuring prediction, the same feature extraction scheme is used to convert unseen inputs to feature vectors. These feature sets are then fed into the model, which generates predicted labels.\n</li>\n</ul>\n</h2>\n\n![](https://github.com/ahmetbulut/CS340withDSX/blob/master/static/Week9/Supervised-classification.png?raw=true)"
        }, 
        {
            "metadata": {}, 
            "cell_type": "markdown", 
            "source": "<h1>Organization of the dataset for training supervised classifiers</h1> \n<h2>\n<ul>\n<li>The dataset is divided into two sets: (1) the development set, and (2) the \"test\" set.</li>\n<p>\n<li>The development set can further be subdivided into a \"training\" set and a \"dev\"-test set.</li>\n</ul>\n</h2>\n\n![](https://github.com/ahmetbulut/CS340withDSX/blob/master/static/Week9/Corpus-org.png?raw=true)"
        }, 
        {
            "metadata": {}, 
            "cell_type": "markdown", 
            "source": "<h1>ML Pipeline</h1>\n<h2>In machine learning, it is common to run a sequence of algorithms to process and learn from data. E.g., a simple text document processing workflow might include several stages:</h2>\n<h2><ol>\n<li>Split each document\u2019s text into words.</li>\n<li>Convert each document\u2019s words into a numerical feature vector.</li>\n<li>Learn a prediction model using the feature vectors and labels.</li>\n</ol></h2>\n<h2>Spark ML represents such a workflow as a <u>Pipeline</u>, which consists of a sequence of PipelineStages (Transformers and Estimators) to be run in a specific order.</h2> "
        }, 
        {
            "metadata": {}, 
            "cell_type": "markdown", 
            "source": "<h1>Pipeline components</h1>"
        }, 
        {
            "metadata": {}, 
            "cell_type": "markdown", 
            "source": "<h2>Transformers</h2>\n<h3>\n<ol>\n<li>A Transformer is an abstraction that includes feature transformers and learned models.\n</li>\n<p>\n<li>\nTechnically, a Transformer implements a method transform(), which converts one DataFrame into another, generally by appending one or more columns.\n</li>\n<p>For example: \n<ul>\n<li>A feature transformer might take a DataFrame, read a column (e.g., text), map it into a new column (e.g., feature vectors), and <u>output a new DataFrame with the mapped column appended</u>.\n</li>\n<p>\n<li>A learning model might take a DataFrame, read the column containing feature vectors, predict the label for each feature vector, and <u>output a new DataFrame with predicted labels appended as a column.</u>\n</li>\n</ul>\n</ol>\n</h3>"
        }, 
        {
            "metadata": {}, 
            "cell_type": "markdown", 
            "source": "<h2>Estimators</h2>\n<h3>\n<ol>\n<li>An Estimator abstracts the concept of a learning algorithm or any algorithm that fits or trains on data. \n</li>\n<p>\n<li>\nTechnically, <u>an Estimator implements a method fit(), which accepts a DataFrame and produces a Model, which is a Transformer</u>.\n<p>For example:\n<p>\nA learning algorithm such as LogisticRegression is an Estimator, and calling fit() trains a LogisticRegressionModel, which is a Model and hence a Transformer.\n</li>\n</ol>\n</h3>"
        }, 
        {
            "metadata": {}, 
            "cell_type": "markdown", 
            "source": "![](https://github.com/ahmetbulut/CS340withDSX/blob/master/static/Week9/ml-Pipeline.png?raw=true)\n<hr size=\"5\">\n![](https://github.com/ahmetbulut/CS340withDSX/blob/master/static/Week9/ml-PipelineModel.png?raw=true)"
        }, 
        {
            "execution_count": 4, 
            "cell_type": "code", 
            "outputs": [], 
            "metadata": {
                "collapsed": true
            }, 
            "source": "# The code was removed by DSX for sharing."
        }, 
        {
            "execution_count": 6, 
            "cell_type": "code", 
            "outputs": [], 
            "metadata": {
                "collapsed": true
            }, 
            "source": "rdd = sc.textFile(path_1)"
        }, 
        {
            "execution_count": 7, 
            "cell_type": "code", 
            "outputs": [], 
            "metadata": {
                "collapsed": true
            }, 
            "source": "from pyspark.ml import Pipeline\nfrom pyspark.ml.classification import LogisticRegression\nfrom pyspark.ml.feature import HashingTF, Tokenizer\nfrom pyspark.sql import Row"
        }, 
        {
            "execution_count": 8, 
            "cell_type": "code", 
            "outputs": [], 
            "metadata": {
                "collapsed": false
            }, 
            "source": "interim = rdd.map(lambda line: (1.0 if line.split(\"\\t\")[0] == \"spam\" else 0.0, line.split(\"\\t\")[1]))\ninterim = interim.map(lambda t: Row(label=t[0], text=t[1]))\ntraining = sqlContext.createDataFrame(interim)"
        }, 
        {
            "execution_count": 9, 
            "cell_type": "code", 
            "outputs": [
                {
                    "output_type": "stream", 
                    "name": "stderr", 
                    "text": "/usr/local/src/spark160master/spark/python/pyspark/ml/classification.py:207: UserWarning: weights is deprecated. Use coefficients instead.\n  warnings.warn(\"weights is deprecated. Use coefficients instead.\")\n"
                }
            ], 
            "metadata": {
                "collapsed": false
            }, 
            "source": "# Configure an ML pipeline, which consists of 3 stages: \n# (1) Tokenizer, \n#\u00a0(2) HashingTF, and \n#\u00a0(3) LR.\n\ntokenizer = Tokenizer(inputCol=\"text\", outputCol=\"words\")\nhashingTF = HashingTF(inputCol=tokenizer.getOutputCol(), outputCol=\"features\")\nlr = LogisticRegression(maxIter=10, regParam=0.01)\npipeline = Pipeline(stages=[tokenizer, hashingTF, lr])\n\n# Fit the pipeline to training documents.\nmodel = pipeline.fit(training)\n\n# Prepare test documents, which are unlabeled (id, text) tuples.\ntest = sqlContext.createDataFrame([\n    Row(text=\"You will get a prize. To claim call 09061701461. Claim code KL341. Valid 12 hours only.\"),\n    Row(text=\"Even my brother is not like to speak with me. They treat me like aids patent.\")])\n\n# Make predictions on test documents and print columns of interest.\nprediction = model.transform(test)"
        }, 
        {
            "execution_count": 11, 
            "cell_type": "code", 
            "outputs": [
                {
                    "output_type": "stream", 
                    "name": "stdout", 
                    "text": "+--------------------+--------------------+--------------------+--------------------+--------------------+----------+\n|                text|               words|            features|       rawPrediction|         probability|prediction|\n+--------------------+--------------------+--------------------+--------------------+--------------------+----------+\n|You will get a pr...|[you, will, get, ...|(262144,[97,1569,...|[-0.4008797488979...|[0.40110098912445...|       1.0|\n|Even my brother i...|[even, my, brothe...|(262144,[26,3370,...|[6.28599076167609...|[0.99814125033600...|       0.0|\n+--------------------+--------------------+--------------------+--------------------+--------------------+----------+\n\n"
                }
            ], 
            "metadata": {
                "collapsed": false
            }, 
            "source": "prediction.limit(2).show()"
        }, 
        {
            "execution_count": 12, 
            "cell_type": "code", 
            "outputs": [
                {
                    "output_type": "stream", 
                    "name": "stdout", 
                    "text": "Row(text=u'You will get a prize. To claim call 09061701461. Claim code KL341. Valid 12 hours only.', prediction=1.0)\nRow(text=u'Even my brother is not like to speak with me. They treat me like aids patent.', prediction=0.0)\n"
                }
            ], 
            "metadata": {
                "collapsed": false
            }, 
            "source": "selected = prediction.select(\"text\", \"prediction\")\nfor row in selected.collect():\n    print(row)"
        }, 
        {
            "execution_count": null, 
            "cell_type": "code", 
            "outputs": [], 
            "metadata": {
                "collapsed": true
            }, 
            "source": ""
        }
    ], 
    "nbformat": 4, 
    "nbformat_minor": 0
}