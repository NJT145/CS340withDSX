{
    "nbformat": 4, 
    "cells": [
        {
            "cell_type": "code", 
            "execution_count": 45, 
            "source": "# The code was removed by DSX for sharing.", 
            "metadata": {
                "collapsed": false
            }, 
            "outputs": []
        }, 
        {
            "cell_type": "markdown", 
            "metadata": {}, 
            "source": "<h1>Yahoo SEM Click Data</h1>\n<h2>\nThe tab separated data has the following fields:\n    <ul>\n    <li>0 day </li>\n    <li>1 anonymized account_id </li>\n    <li>2 rank </li>\n    <li>3 anonymized keyphrase (list of anonymized keywords) </li>\n    <li>4 avg bid </li>\n    <li>5 impressions </li>\n    <li>6 clicks </li>\n    </ul>\n</h2>"
        }, 
        {
            "cell_type": "code", 
            "execution_count": 46, 
            "source": "sc.textFile(path_1).first()", 
            "metadata": {
                "collapsed": false
            }, 
            "outputs": [
                {
                    "execution_count": 46, 
                    "data": {
                        "text/plain": "u'99\\t9f9893bd-5eb5-4e79-9e85-48f3b6e33375\\t4\\t3db691494440189b dff40de4dd25253a 12f7d2408c3dcb88\\t540.0\\t218.0\\t0.0'"
                    }, 
                    "metadata": {}, 
                    "output_type": "execute_result"
                }
            ]
        }, 
        {
            "cell_type": "code", 
            "execution_count": 36, 
            "source": "import math\nrdd = sc.textFile(path_1).map(lambda line: (line.split(\"\\t\")[3],(float(line.split(\"\\t\")[-2]),float(line.split(\"\\t\")[-1]))))\nrdd.first()", 
            "metadata": {
                "collapsed": false
            }, 
            "outputs": [
                {
                    "execution_count": 36, 
                    "data": {
                        "text/plain": "(u'3db691494440189b dff40de4dd25253a 12f7d2408c3dcb88', (218.0, 0.0))"
                    }, 
                    "metadata": {}, 
                    "output_type": "execute_result"
                }
            ]
        }, 
        {
            "cell_type": "markdown", 
            "metadata": {
                "collapsed": true
            }, 
            "source": "![ContingencyTable](https://github.com/ahmetbulut/CS340withDSX/blob/master/static/Week5/ContingencyTable.png?raw=true)\n![TermClickValue](https://github.com/ahmetbulut/CS340withDSX/blob/master/static/Week5/TermClickValue.png?raw=true)\n![KeyphraseClickValue.png](https://github.com/ahmetbulut/CS340withDSX/blob/master/static/Week5/KeyphraseClickValue.png?raw=true)"
        }, 
        {
            "cell_type": "code", 
            "execution_count": 37, 
            "source": "rdd = rdd.reduceByKey(lambda x,y:(x[0]+y[0],x[1]+y[1])).mapValues(lambda x: 1 if (x[1]/x[0])>0 else 0)", 
            "metadata": {
                "collapsed": true
            }, 
            "outputs": []
        }, 
        {
            "cell_type": "code", 
            "execution_count": 38, 
            "source": "keyphrases0 = rdd.filter(lambda x: x[1]==0)\nkeyphrases1 = rdd.filter(lambda x: x[1]==1)", 
            "metadata": {
                "collapsed": true
            }, 
            "outputs": []
        }, 
        {
            "cell_type": "code", 
            "execution_count": 39, 
            "source": "rdd0 = keyphrases0.flatMap(lambda x: [(e,1) for e in x[0].split()]) \nrdd1 = keyphrases1.flatMap(lambda x: [(e,1) for e in x[0].split()])", 
            "metadata": {
                "collapsed": true
            }, 
            "outputs": []
        }, 
        {
            "cell_type": "code", 
            "execution_count": 40, 
            "source": "X = keyphrases1.count() \nY = keyphrases0.count()\nprint X,Y", 
            "metadata": {
                "collapsed": false
            }, 
            "outputs": [
                {
                    "name": "stdout", 
                    "output_type": "stream", 
                    "text": "2550 31153\n"
                }
            ]
        }, 
        {
            "cell_type": "code", 
            "execution_count": 41, 
            "source": "t_rdd0 = rdd0.reduceByKey(lambda x,y: x+y).mapValues(lambda y: (y+0.5)/(Y-y+0.5))\nt_rdd1 = rdd1.reduceByKey(lambda x,y: x+y).mapValues(lambda x: (x+0.5)/(X-x+0.5))", 
            "metadata": {
                "collapsed": true
            }, 
            "outputs": []
        }, 
        {
            "cell_type": "code", 
            "execution_count": 42, 
            "source": "ct_rdd = t_rdd1.join(t_rdd0).mapValues(lambda r: math.log(r[0] / r[1]))", 
            "metadata": {
                "collapsed": true
            }, 
            "outputs": []
        }, 
        {
            "cell_type": "code", 
            "execution_count": 43, 
            "source": "cts = sc.broadcast(dict(ct_rdd.collect()))", 
            "metadata": {
                "collapsed": true
            }, 
            "outputs": []
        }, 
        {
            "cell_type": "code", 
            "execution_count": null, 
            "source": "![ContingencyTable](https://github.com/ahmetbulut/CS340withDSX/blob/master/static/Week5/ContingencyTable.png?raw=true)", 
            "metadata": {
                "collapsed": true
            }, 
            "outputs": []
        }, 
        {
            "cell_type": "code", 
            "execution_count": 44, 
            "source": "def accuracy(rdd, cts, threshold):\n    csv_rdd = rdd.map(lambda x: (x[0], x[1], sum([cts.value[t] for t in x[0].split() if t in cts.value])))\n    results = csv_rdd.map(lambda x: (x[1] == (1 if x[2] > threshold else 0),1)).reduceByKey(lambda x,y: x+y).collect()\n    print float(results[1][1]) / (results[0][1]+results[1][1])\n\naccuracy(rdd, cts, 10)\naccuracy(rdd, cts, -10)", 
            "metadata": {
                "collapsed": false
            }, 
            "outputs": [
                {
                    "name": "stdout", 
                    "output_type": "stream", 
                    "text": "0.924339079607\n0.0756609203928\n"
                }
            ]
        }, 
        {
            "cell_type": "code", 
            "execution_count": null, 
            "source": "", 
            "metadata": {
                "collapsed": true
            }, 
            "outputs": []
        }
    ], 
    "metadata": {
        "kernelspec": {
            "display_name": "Python 2 with Spark 1.6", 
            "language": "python", 
            "name": "python2"
        }, 
        "language_info": {
            "codemirror_mode": {
                "version": 2, 
                "name": "ipython"
            }, 
            "version": "2.7.11", 
            "name": "python", 
            "pygments_lexer": "ipython2", 
            "nbconvert_exporter": "python", 
            "mimetype": "text/x-python", 
            "file_extension": ".py"
        }
    }, 
    "nbformat_minor": 0
}