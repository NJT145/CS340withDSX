{
    "metadata": {
        "language_info": {
            "file_extension": ".py", 
            "mimetype": "text/x-python", 
            "nbconvert_exporter": "python", 
            "pygments_lexer": "ipython2", 
            "version": "2.7.11", 
            "name": "python", 
            "codemirror_mode": {
                "version": 2, 
                "name": "ipython"
            }
        }, 
        "kernelspec": {
            "display_name": "Python 2 with Spark 1.6", 
            "language": "python", 
            "name": "python2"
        }
    }, 
    "cells": [
        {
            "metadata": {
                "collapsed": false
            }, 
            "outputs": [], 
            "cell_type": "code", 
            "execution_count": 1, 
            "source": "# The code was removed by DSX for sharing."
        }, 
        {
            "metadata": {
                "collapsed": true
            }, 
            "outputs": [], 
            "cell_type": "code", 
            "execution_count": 2, 
            "source": "path = \"swift://CS340.\" + name + \"/ratings.csv\""
        }, 
        {
            "metadata": {
                "collapsed": false
            }, 
            "outputs": [], 
            "cell_type": "code", 
            "execution_count": 3, 
            "source": "data = sc.textFile(path)"
        }, 
        {
            "metadata": {
                "collapsed": false
            }, 
            "outputs": [
                {
                    "metadata": {}, 
                    "execution_count": 4, 
                    "data": {
                        "text/plain": "[u'1,31,2.5,1260759144', u'1,1029,3,1260759179', u'1,1061,3,1260759182']"
                    }, 
                    "output_type": "execute_result"
                }
            ], 
            "cell_type": "code", 
            "execution_count": 4, 
            "source": "data.take(3)"
        }, 
        {
            "metadata": {
                "collapsed": false
            }, 
            "outputs": [
                {
                    "metadata": {}, 
                    "execution_count": 5, 
                    "data": {
                        "text/plain": "u'2.5'"
                    }, 
                    "output_type": "execute_result"
                }
            ], 
            "cell_type": "code", 
            "execution_count": 5, 
            "source": "a_row = u'1,31,2.5,1260759144'\na_row.split(\",\")[2]"
        }, 
        {
            "metadata": {
                "collapsed": false
            }, 
            "outputs": [], 
            "cell_type": "code", 
            "execution_count": 9, 
            "source": "total_rating = data.map(lambda a_row: a_row.split(\",\"))\\\n    .map(lambda lis: lis[2])\\\n    .map(float)\\\n    .reduce(lambda x,y : x+y)"
        }, 
        {
            "metadata": {
                "collapsed": false
            }, 
            "outputs": [], 
            "cell_type": "code", 
            "execution_count": 10, 
            "source": "num_or_rating = data.count()"
        }, 
        {
            "metadata": {
                "collapsed": true
            }, 
            "outputs": [], 
            "cell_type": "code", 
            "execution_count": 11, 
            "source": "mean = total_rating/num_or_rating"
        }, 
        {
            "metadata": {
                "collapsed": false
            }, 
            "outputs": [
                {
                    "output_type": "stream", 
                    "text": "3.54360825567\n", 
                    "name": "stdout"
                }
            ], 
            "cell_type": "code", 
            "execution_count": 12, 
            "source": "print mean"
        }, 
        {
            "metadata": {
                "collapsed": false
            }, 
            "outputs": [
                {
                    "output_type": "stream", 
                    "text": "MapPartitionsRDD[1] at textFile at NativeMethodAccessorImpl.java:-2\n", 
                    "name": "stdout"
                }
            ], 
            "cell_type": "code", 
            "execution_count": 9, 
            "source": "print data"
        }, 
        {
            "metadata": {
                "collapsed": true
            }, 
            "outputs": [], 
            "cell_type": "code", 
            "execution_count": null, 
            "source": ""
        }
    ], 
    "nbformat": 4, 
    "nbformat_minor": 0
}